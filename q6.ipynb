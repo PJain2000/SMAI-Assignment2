{
 "cells": [
  {
   "cell_type": "code",
   "execution_count": 1,
   "metadata": {},
   "outputs": [],
   "source": [
    "import pandas as pd\n",
    "from random import sample\n",
    "from math import sqrt\n",
    "from numpy import mean\n",
    "import numpy as np\n",
    "import copy\n",
    "import os\n",
    "\n",
    "from sklearn.feature_extraction.text import TfidfVectorizer\n",
    "from sklearn.decomposition import TruncatedSVD\n",
    "from scipy.spatial import distance\n",
    "from sklearn.preprocessing import StandardScaler\n",
    "from sklearn.metrics import accuracy_score"
   ]
  },
  {
   "cell_type": "code",
   "execution_count": 2,
   "metadata": {},
   "outputs": [],
   "source": [
    "def dist(v1, v2):\n",
    "    return np.sqrt(np.sum((np.array(v1) - np.array(v2)) ** 2))  "
   ]
  },
  {
   "cell_type": "code",
   "execution_count": 3,
   "metadata": {},
   "outputs": [],
   "source": [
    "def initializeCenters(df, k):\n",
    "    random_indices = sample(range(len(df)), k)\n",
    "    centers = [list(df.iloc[idx]) for idx in random_indices]\n",
    "    return centers"
   ]
  },
  {
   "cell_type": "code",
   "execution_count": 4,
   "metadata": {},
   "outputs": [],
   "source": [
    "def computeCenter(df, k, cluster_labels):\n",
    "    cluster_centers = list()\n",
    "    data_points = list()\n",
    "    for i in range(k):\n",
    "        for idx, val in enumerate(cluster_labels):\n",
    "            if val == i:\n",
    "                data_points.append(list(df.iloc[idx]))\n",
    "        cluster_centers.append(list(map(mean, zip(*data_points))))\n",
    "    return cluster_centers"
   ]
  },
  {
   "cell_type": "code",
   "execution_count": 5,
   "metadata": {},
   "outputs": [],
   "source": [
    "def assignCluster(df, k, cluster_centers):\n",
    "    cluster_assigned = list()\n",
    "    for i in range(len(df)):\n",
    "        distances = [dist(list(df.iloc[i]),center) for center in cluster_centers]\n",
    "        min_dist, idx = min((val, idx) for (idx, val) in enumerate(distances))\n",
    "        cluster_assigned.append(idx)\n",
    "    return cluster_assigned"
   ]
  },
  {
   "cell_type": "code",
   "execution_count": 6,
   "metadata": {},
   "outputs": [],
   "source": [
    "def kmeans(df, k, class_labels):\n",
    "    cluster_centers = initializeCenters(df, k)\n",
    "    curr = 1\n",
    "\n",
    "    while curr <= MAX_ITER:\n",
    "        cluster_labels = assignCluster(df, k, cluster_centers)\n",
    "        cluster_centers = computeCenter(df, k, cluster_labels)\n",
    "        curr += 1\n",
    "\n",
    "    return cluster_labels, cluster_centers"
   ]
  },
  {
   "cell_type": "code",
   "execution_count": 7,
   "metadata": {},
   "outputs": [],
   "source": [
    "def featurize_text(data):\n",
    "    vectorizer = TfidfVectorizer()\n",
    "    X = vectorizer.fit_transform(data.ravel())\n",
    "    \n",
    "    svd = TruncatedSVD(n_components=2)\n",
    "    Y = svd.fit_transform(X)\n",
    "    Z = StandardScaler().fit_transform(Y)\n",
    "\n",
    "    return Z"
   ]
  },
  {
   "cell_type": "code",
   "execution_count": 8,
   "metadata": {},
   "outputs": [],
   "source": [
    "k = 5\n",
    "MAX_ITER = 500"
   ]
  },
  {
   "cell_type": "code",
   "execution_count": 9,
   "metadata": {},
   "outputs": [],
   "source": [
    "files = os.listdir('Datasets/Question-6/dataset/')\n",
    "\n",
    "x = []\n",
    "y_labels = []\n",
    "for file in files:\n",
    "    y_labels.append(int(file.split(\"_\",1)[1][0]))\n",
    "    f = open('Datasets/Question-6/dataset/'+file, 'r', errors='replace')\n",
    "    data = f.read()\n",
    "    x.append(data)\n",
    "    f.close()"
   ]
  },
  {
   "cell_type": "code",
   "execution_count": 10,
   "metadata": {},
   "outputs": [],
   "source": [
    "z = featurize_text(np.array(x))\n",
    "\n",
    "df = pd.DataFrame(z) \n",
    "class_labels = ['business', 'entertainment', 'politics', 'sport', 'tech']"
   ]
  },
  {
   "cell_type": "code",
   "execution_count": 11,
   "metadata": {},
   "outputs": [],
   "source": [
    "labels, centers = kmeans(df, k, class_labels)"
   ]
  },
  {
   "cell_type": "code",
   "execution_count": 12,
   "metadata": {},
   "outputs": [
    {
     "data": {
      "text/plain": [
       "0.15768115942028985"
      ]
     },
     "execution_count": 12,
     "metadata": {},
     "output_type": "execute_result"
    }
   ],
   "source": [
    "accuracy_score(y_labels, labels)"
   ]
  },
  {
   "cell_type": "code",
   "execution_count": null,
   "metadata": {},
   "outputs": [],
   "source": []
  }
 ],
 "metadata": {
  "kernelspec": {
   "display_name": "Python 3",
   "language": "python",
   "name": "python3"
  },
  "language_info": {
   "codemirror_mode": {
    "name": "ipython",
    "version": 3
   },
   "file_extension": ".py",
   "mimetype": "text/x-python",
   "name": "python",
   "nbconvert_exporter": "python",
   "pygments_lexer": "ipython3",
   "version": "3.7.7"
  }
 },
 "nbformat": 4,
 "nbformat_minor": 4
}
