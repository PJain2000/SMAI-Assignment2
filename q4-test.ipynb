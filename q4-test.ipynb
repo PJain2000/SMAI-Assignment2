{
 "cells": [
  {
   "cell_type": "code",
   "execution_count": 1,
   "metadata": {},
   "outputs": [],
   "source": [
    "import numpy as np\n",
    "import matplotlib.pyplot as plt\n",
    "import pandas as pd\n",
    "from sklearn import preprocessing\n",
    "from sklearn.metrics import r2_score\n",
    "from sklearn.metrics import accuracy_score\n",
    "from sklearn.metrics import mean_absolute_error"
   ]
  },
  {
   "cell_type": "code",
   "execution_count": 2,
   "metadata": {},
   "outputs": [],
   "source": [
    "def  cal_cost_mse(theta,X,y):\n",
    "    m = len(y)\n",
    "    predictions = X.dot(theta)\n",
    "    cost = (1/2*m) * np.sum(np.square(predictions-y))\n",
    "    return cost"
   ]
  },
  {
   "cell_type": "code",
   "execution_count": 3,
   "metadata": {},
   "outputs": [],
   "source": [
    "def  cal_cost_mae(theta,X,y):\n",
    "    predictions = X.dot(theta)\n",
    "    cost = mean_absolute_error(y, predictions)\n",
    "    return cost"
   ]
  },
  {
   "cell_type": "code",
   "execution_count": 4,
   "metadata": {},
   "outputs": [],
   "source": [
    "def  cal_cost_mape(theta,X,y):\n",
    "    predictions = X.dot(theta)\n",
    "    cost =  np.mean(np.abs((y - predictions) / y)) * 100\n",
    "    return cost"
   ]
  },
  {
   "cell_type": "code",
   "execution_count": 5,
   "metadata": {},
   "outputs": [],
   "source": [
    "def gradient_descent(X,y,theta,learning_rate,iterations,typ):\n",
    "    m = len(y)\n",
    "    cost_history = np.zeros(iterations)\n",
    "    theta_history = np.zeros((iterations,9))\n",
    "    for it in range(iterations):\n",
    "        if typ == 1:\n",
    "            prediction = np.dot(X,theta)\n",
    "            theta = theta -(1/m)*learning_rate*( X.T.dot((prediction - y)))\n",
    "            cost_history[it]  = cal_cost_mse(theta,X,y)\n",
    "            theta_history[it,:] =theta.T\n",
    "        elif typ == 2:\n",
    "            prediction = np.dot(X,theta)\n",
    "            theta = theta -(1/m)*learning_rate*( X.T)\n",
    "            cost_history[it]  = cal_cost_mae(theta,X,y)\n",
    "            theta_history[it,:] =theta.T\n",
    "        else:\n",
    "            prediction = np.dot(X,theta)\n",
    "            theta = theta -(1/m)*learning_rate*( X.T.dot((prediction - y)))\n",
    "            cost_history[it]  = cal_cost_mape(theta,X,y)\n",
    "            theta_history[it,:] =theta.T\n",
    "    return theta, cost_history, theta_history"
   ]
  },
  {
   "cell_type": "code",
   "execution_count": 6,
   "metadata": {},
   "outputs": [],
   "source": [
    "data = pd.read_csv(\"~/Desktop/assgn2_test_data/weather_test.csv\", delimiter=',')\n",
    "\n",
    "data = data.dropna()\n",
    "summary_unique = data['Summary'].unique()\n",
    "data['Summary'] = data['Summary'].astype('category')\n",
    "data['Summary'] = data['Summary'].cat.reorder_categories(summary_unique, ordered=True)\n",
    "data['Summary'] = data['Summary'].cat.codes\n",
    "\n",
    "precip_unique = data['Precip Type'].unique()\n",
    "data['Precip Type'] = data['Precip Type'].astype('category')\n",
    "data['Precip Type'] = data['Precip Type'].cat.reorder_categories(precip_unique, ordered=True)\n",
    "data['Precip Type'] = data['Precip Type'].cat.codes\n",
    "\n",
    "daily_unique = data['Daily Summary'].unique()\n",
    "data['Daily Summary'] = data['Daily Summary'].astype('category')\n",
    "data['Daily Summary'] = data['Daily Summary'].cat.reorder_categories(daily_unique, ordered=True)\n",
    "data['Daily Summary'] = data['Daily Summary'].cat.codes\n",
    "\n",
    "\n",
    "min_max_scaler = preprocessing.MinMaxScaler()\n",
    "\n",
    "data = data.drop('Formatted Date', axis=1)\n",
    "x = data.loc[:, data.columns != 'Apparent Temperature (C)']\n",
    "x_data = x.values\n",
    "x_scaled = min_max_scaler.fit_transform(x_data)\n",
    "x1 = pd.DataFrame(x_scaled)\n",
    "\n",
    "y = data.loc[:,'Apparent Temperature (C)']\n",
    "y_data = y.values.reshape((y.shape[0],1))\n",
    "y_scaled = min_max_scaler.fit_transform(y_data)\n",
    "y1 = pd.DataFrame(y_scaled)"
   ]
  },
  {
   "cell_type": "code",
   "execution_count": 7,
   "metadata": {},
   "outputs": [],
   "source": [
    "lr = 0.1\n",
    "n_iter = 10000\n",
    "theta = np.random.randn(x.shape[1],1)"
   ]
  },
  {
   "cell_type": "code",
   "execution_count": 8,
   "metadata": {},
   "outputs": [
    {
     "data": {
      "text/plain": [
       "0.9897090472218933"
      ]
     },
     "execution_count": 8,
     "metadata": {},
     "output_type": "execute_result"
    }
   ],
   "source": [
    "theta1,cost_history1,theta_history1 = gradient_descent(x1,y1,theta,lr,n_iter,1)\n",
    "y_pred1 = x1.dot(theta1)\n",
    "r2_score(y1, y_pred1)"
   ]
  },
  {
   "cell_type": "markdown",
   "metadata": {},
   "source": [
    "### Use Mean absolute error when you are doing regression and don’t want outliers to play a big role. It can also be useful if you know that your distribution is multimodal, and it’s desirable to have predictions at one of the modes, rather than at the mean of them."
   ]
  },
  {
   "cell_type": "markdown",
   "metadata": {},
   "source": [
    "behaviour of the regression coefficients"
   ]
  },
  {
   "cell_type": "code",
   "execution_count": 10,
   "metadata": {},
   "outputs": [
    {
     "data": {
      "text/html": [
       "<div>\n",
       "<style scoped>\n",
       "    .dataframe tbody tr th:only-of-type {\n",
       "        vertical-align: middle;\n",
       "    }\n",
       "\n",
       "    .dataframe tbody tr th {\n",
       "        vertical-align: top;\n",
       "    }\n",
       "\n",
       "    .dataframe thead th {\n",
       "        text-align: right;\n",
       "    }\n",
       "</style>\n",
       "<table border=\"1\" class=\"dataframe\">\n",
       "  <thead>\n",
       "    <tr style=\"text-align: right;\">\n",
       "      <th></th>\n",
       "      <th>0</th>\n",
       "    </tr>\n",
       "  </thead>\n",
       "  <tbody>\n",
       "    <tr>\n",
       "      <th>0</th>\n",
       "      <td>0.020547</td>\n",
       "    </tr>\n",
       "    <tr>\n",
       "      <th>1</th>\n",
       "      <td>-0.006345</td>\n",
       "    </tr>\n",
       "    <tr>\n",
       "      <th>2</th>\n",
       "      <td>1.026893</td>\n",
       "    </tr>\n",
       "    <tr>\n",
       "      <th>3</th>\n",
       "      <td>0.013268</td>\n",
       "    </tr>\n",
       "    <tr>\n",
       "      <th>4</th>\n",
       "      <td>-0.082841</td>\n",
       "    </tr>\n",
       "    <tr>\n",
       "      <th>5</th>\n",
       "      <td>0.003432</td>\n",
       "    </tr>\n",
       "    <tr>\n",
       "      <th>6</th>\n",
       "      <td>-0.000097</td>\n",
       "    </tr>\n",
       "    <tr>\n",
       "      <th>7</th>\n",
       "      <td>0.004202</td>\n",
       "    </tr>\n",
       "    <tr>\n",
       "      <th>8</th>\n",
       "      <td>-0.004725</td>\n",
       "    </tr>\n",
       "  </tbody>\n",
       "</table>\n",
       "</div>"
      ],
      "text/plain": [
       "          0\n",
       "0  0.020547\n",
       "1 -0.006345\n",
       "2  1.026893\n",
       "3  0.013268\n",
       "4 -0.082841\n",
       "5  0.003432\n",
       "6 -0.000097\n",
       "7  0.004202\n",
       "8 -0.004725"
      ]
     },
     "execution_count": 10,
     "metadata": {},
     "output_type": "execute_result"
    }
   ],
   "source": [
    "theta1"
   ]
  },
  {
   "cell_type": "code",
   "execution_count": null,
   "metadata": {},
   "outputs": [],
   "source": []
  }
 ],
 "metadata": {
  "kernelspec": {
   "display_name": "Python 3",
   "language": "python",
   "name": "python3"
  },
  "language_info": {
   "codemirror_mode": {
    "name": "ipython",
    "version": 3
   },
   "file_extension": ".py",
   "mimetype": "text/x-python",
   "name": "python",
   "nbconvert_exporter": "python",
   "pygments_lexer": "ipython3",
   "version": "3.7.7"
  }
 },
 "nbformat": 4,
 "nbformat_minor": 4
}
